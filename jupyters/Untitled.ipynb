{
 "cells": [
  {
   "cell_type": "code",
   "execution_count": 1,
   "metadata": {},
   "outputs": [],
   "source": [
    "import matplotlib.pyplot as plt\n",
    "from datetime import datetime"
   ]
  },
  {
   "cell_type": "code",
   "execution_count": 2,
   "metadata": {},
   "outputs": [],
   "source": [
    "import numpy as np\n",
    "from numpy import matlib as m\n",
    "from math import sin, cos, pi"
   ]
  },
  {
   "cell_type": "code",
   "execution_count": 3,
   "metadata": {},
   "outputs": [
    {
     "data": {
      "text/plain": [
       "[1, 2, 3]"
      ]
     },
     "execution_count": 3,
     "metadata": {},
     "output_type": "execute_result"
    }
   ],
   "source": [
    "p1 = [1,2,3]\n",
    "p1"
   ]
  },
  {
   "cell_type": "code",
   "execution_count": 4,
   "metadata": {},
   "outputs": [
    {
     "data": {
      "text/plain": [
       "matrix([[1., 0., 0.],\n",
       "        [0., 1., 0.],\n",
       "        [0., 0., 1.]])"
      ]
     },
     "execution_count": 4,
     "metadata": {},
     "output_type": "execute_result"
    }
   ],
   "source": [
    "id = m.identity(3)\n",
    "id"
   ]
  },
  {
   "cell_type": "code",
   "execution_count": null,
   "metadata": {},
   "outputs": [],
   "source": []
  },
  {
   "cell_type": "code",
   "execution_count": 5,
   "metadata": {},
   "outputs": [
    {
     "data": {
      "text/plain": [
       "matrix([[1., 2., 3.]])"
      ]
     },
     "execution_count": 5,
     "metadata": {},
     "output_type": "execute_result"
    }
   ],
   "source": [
    "p2 = p1 * id\n",
    "p2"
   ]
  },
  {
   "cell_type": "code",
   "execution_count": 89,
   "metadata": {},
   "outputs": [
    {
     "name": "stdout",
     "output_type": "stream",
     "text": [
      "0.13962634015954636\n"
     ]
    },
    {
     "data": {
      "text/plain": [
       "array([[ 0.99026807, -0.1391731 ],\n",
       "       [ 0.1391731 ,  0.99026807]])"
      ]
     },
     "execution_count": 89,
     "metadata": {},
     "output_type": "execute_result"
    }
   ],
   "source": [
    "theta = np.radians(8)\n",
    "print(theta)\n",
    "c, s = cos(theta), sin(theta)\n",
    "r = np.array(((c, -s), (s, c)))\n",
    "r"
   ]
  },
  {
   "cell_type": "code",
   "execution_count": 90,
   "metadata": {},
   "outputs": [
    {
     "data": {
      "text/plain": [
       "array([[ 1.        ,  0.        ,  0.        ],\n",
       "       [ 0.        ,  0.99026807, -0.1391731 ],\n",
       "       [ 0.        ,  0.1391731 ,  0.99026807]])"
      ]
     },
     "execution_count": 90,
     "metadata": {},
     "output_type": "execute_result"
    }
   ],
   "source": [
    "rx = np.array(((1,0,0),(0,c,-s),(0,s,c)))\n",
    "rx"
   ]
  },
  {
   "cell_type": "code",
   "execution_count": 91,
   "metadata": {},
   "outputs": [
    {
     "data": {
      "text/plain": [
       "array([[ 0.99026807,  0.        ,  0.1391731 ],\n",
       "       [ 0.        ,  1.        ,  0.        ],\n",
       "       [-0.1391731 ,  0.        ,  0.99026807]])"
      ]
     },
     "execution_count": 91,
     "metadata": {},
     "output_type": "execute_result"
    }
   ],
   "source": [
    "ry = np.array(((c,0,s),(0,1,0),(-s,0,c)))\n",
    "ry"
   ]
  },
  {
   "cell_type": "code",
   "execution_count": 92,
   "metadata": {},
   "outputs": [
    {
     "data": {
      "text/plain": [
       "array([[ 0.99026807, -0.1391731 ,  0.        ],\n",
       "       [ 0.1391731 ,  0.99026807,  0.        ],\n",
       "       [ 0.        ,  0.        ,  1.        ]])"
      ]
     },
     "execution_count": 92,
     "metadata": {},
     "output_type": "execute_result"
    }
   ],
   "source": [
    "rz = np.array(((c,-s,0),(s,c,0),(0,0,1)))\n",
    "rz"
   ]
  },
  {
   "cell_type": "code",
   "execution_count": 93,
   "metadata": {},
   "outputs": [
    {
     "data": {
      "text/plain": [
       "array([[ 10,  10,  10],\n",
       "       [-10,  10,  10],\n",
       "       [-10, -10,  10],\n",
       "       [ 10, -10,  10],\n",
       "       [ 10,  10, -10],\n",
       "       [-10,  10, -10],\n",
       "       [-10, -10, -10],\n",
       "       [ 10, -10, -10]])"
      ]
     },
     "execution_count": 93,
     "metadata": {},
     "output_type": "execute_result"
    }
   ],
   "source": [
    "v = [[1,1,1],[-1,1,1],[-1,-1,1],[1,-1,1],[1,1,-1],[-1,1,-1],[-1,-1,-1],[1,-1,-1]]\n",
    "v = np.array(v) * 10\n",
    "v"
   ]
  },
  {
   "cell_type": "code",
   "execution_count": 100,
   "metadata": {},
   "outputs": [
    {
     "data": {
      "text/plain": [
       "[array([10, 10, 10]),\n",
       " array([-10,  10,  10]),\n",
       " array([-10,  10,  10]),\n",
       " array([-10, -10,  10]),\n",
       " array([-10, -10,  10]),\n",
       " array([ 10, -10,  10]),\n",
       " array([ 10, -10,  10]),\n",
       " array([10, 10, 10])]"
      ]
     },
     "execution_count": 100,
     "metadata": {},
     "output_type": "execute_result"
    }
   ],
   "source": [
    "pp=[v[0]]+[v[1]]+[v[1]]+[v[2]]+[v[2]]+[v[3]]+[v[3]]+[v[0]]\n",
    "pp"
   ]
  },
  {
   "cell_type": "code",
   "execution_count": 104,
   "metadata": {},
   "outputs": [
    {
     "name": "stdout",
     "output_type": "stream",
     "text": [
      "[[ 0.99026807  0.          0.1391731 ]\n",
      " [ 0.          1.          0.        ]\n",
      " [-0.1391731   0.          0.99026807]]\n",
      "[array([10, 10, 10]), array([-10,  10,  10]), array([-10,  10,  10]), array([-10, -10,  10]), array([-10, -10,  10]), array([ 10, -10,  10]), array([ 10, -10,  10]), array([10, 10, 10])]\n"
     ]
    },
    {
     "data": {
      "text/plain": [
       "[array([11.2944117 , 10.        ,  8.51094968]),\n",
       " array([-8.51094968, 10.        , 11.2944117 ]),\n",
       " array([-8.51094968, 10.        , 11.2944117 ]),\n",
       " array([ -8.51094968, -10.        ,  11.2944117 ]),\n",
       " array([ -8.51094968, -10.        ,  11.2944117 ]),\n",
       " array([ 11.2944117 , -10.        ,   8.51094968]),\n",
       " array([ 11.2944117 , -10.        ,   8.51094968]),\n",
       " array([11.2944117 , 10.        ,  8.51094968])]"
      ]
     },
     "execution_count": 104,
     "metadata": {},
     "output_type": "execute_result"
    }
   ],
   "source": [
    "campos = np.array([0,0,2])\n",
    "print(ry)\n",
    "ppr = [(ry).dot(p) for p in pp]\n",
    "##pp = np.array(pp) + campos\n",
    "##ppr = ppr + campos\n",
    "print(pp)\n",
    "ppr"
   ]
  },
  {
   "cell_type": "code",
   "execution_count": 97,
   "metadata": {},
   "outputs": [],
   "source": [
    "pps =[np.array([pp[r][rr] for r in range(0,len(pp))]) for rr in range(3)]\n",
    "xx = (pps[0] * 1/pps[2]) \n",
    "yy = (pps[1] * 1/pps[2])"
   ]
  },
  {
   "cell_type": "code",
   "execution_count": 76,
   "metadata": {},
   "outputs": [],
   "source": [
    "pprs =[np.array([ppr[r][rr] for r in range(0,len(ppr))]) for rr in range(3)]\n",
    "xxr = (pprs[0] * 1/pprs[2])\n",
    "yyr = (pprs[1] * 1/pprs[2])"
   ]
  },
  {
   "cell_type": "code",
   "execution_count": 77,
   "metadata": {},
   "outputs": [
    {
     "data": {
      "text/plain": [
       "[<matplotlib.lines.Line2D at 0x14003c437b8>]"
      ]
     },
     "execution_count": 77,
     "metadata": {},
     "output_type": "execute_result"
    },
    {
     "data": {
      "image/png": "[encoded data removed]",
      "text/plain": [
       "<Figure size 432x288 with 1 Axes>"
      ]
     },
     "metadata": {
      "needs_background": "light"
     },
     "output_type": "display_data"
    }
   ],
   "source": [
    "plt.xlim([-10,10])\n",
    "plt.ylim([-10,10])\n",
    "plt.gca().set_aspect('equal', adjustable='box')\n",
    "plt.plot(xx,yy)\n",
    "plt.plot(xxr,yyr)"
   ]
  },
  {
   "cell_type": "code",
   "execution_count": null,
   "metadata": {},
   "outputs": [],
   "source": []
  }
 ],
 "metadata": {
  "kernelspec": {
   "display_name": "Python 3",
   "language": "python",
   "name": "python3"
  },
  "language_info": {
   "codemirror_mode": {
    "name": "ipython",
    "version": 3
   },
   "file_extension": ".py",
   "mimetype": "text/x-python",
   "name": "python",
   "nbconvert_exporter": "python",
   "pygments_lexer": "ipython3",
   "version": "3.7.3"
  }
 },
 "nbformat": 4,
 "nbformat_minor": 4
}
