{
 "cells": [
  {
   "cell_type": "code",
   "execution_count": 1,
   "id": "1913ceb9",
   "metadata": {},
   "outputs": [],
   "source": [
    "# pip --trusted-host=pypi.org --trusted-host=files.pythonhosted.org install pandas notebook plotly chart_studio requests beautifulsoup4\n",
    "import bs4"
   ]
  },
  {
   "cell_type": "code",
   "execution_count": 2,
   "id": "091e43e0",
   "metadata": {},
   "outputs": [],
   "source": [
    "import requests"
   ]
  },
  {
   "cell_type": "code",
   "execution_count": 3,
   "id": "4541beb6",
   "metadata": {},
   "outputs": [],
   "source": [
    "requests.packages.urllib3.disable_warnings()"
   ]
  },
  {
   "cell_type": "code",
   "execution_count": 4,
   "id": "49166d68",
   "metadata": {},
   "outputs": [],
   "source": [
    "import pandas"
   ]
  },
  {
   "cell_type": "code",
   "execution_count": 5,
   "id": "0b38ac07",
   "metadata": {},
   "outputs": [],
   "source": [
    "import re"
   ]
  },
  {
   "cell_type": "code",
   "execution_count": 6,
   "id": "79bca8f5",
   "metadata": {},
   "outputs": [],
   "source": [
    "import chart_studio.plotly as py\n",
    "import plotly.figure_factory as ff\n",
    "import plotly.express as px"
   ]
  },
  {
   "cell_type": "code",
   "execution_count": 16,
   "id": "76e2aa69",
   "metadata": {},
   "outputs": [],
   "source": [
    "test={}"
   ]
  },
  {
   "cell_type": "code",
   "execution_count": 25,
   "id": "8561684d",
   "metadata": {},
   "outputs": [],
   "source": [
    "def get_year(year):\n",
    "    try:\n",
    "        doc = bs4.BeautifulSoup(requests.get(f\"https://en.wikipedia.org/wiki/{year}_in_film\", verify=False).content)\n",
    "        for s in doc.select(\"sup\"):\n",
    "            s.extract()\n",
    "            \n",
    "        data = [t for t in [t for t in doc.find_all(\"table\") if len(t.find_all(\"caption\"))>0] if t.find(\"caption\").get_text().strip().startswith(f\"Highest-grossing films of {year}\")]\n",
    "        data = data[0]\n",
    "        data2 = pandas.read_html(str(data))[0]\n",
    "        data2[\"Year\"] = year\n",
    "        if \"Domestic rentals\" in data2.columns:\n",
    "            field = \"Domestic rentals\"\n",
    "        if \"Box-office gross\" in data2.columns:\n",
    "            field = \"Box-office gross\"\n",
    "        if \"Worldwide gross\" in data2.columns:\n",
    "            field = \"Worldwide gross\"\n",
    "        if \"Worldwide gross (USD)\" in data2.columns:\n",
    "            field = \"Worldwide gross (USD)\"\n",
    "        \n",
    "        data2[\"Taking\"] = data2[field]\n",
    "        data2 = data2.drop(columns=[field])\n",
    "        data2[\"test\"] = data2[\"Taking\"].str.extract('([0-9.,]+)')\n",
    "        data2[\"Taking\"] = data2[\"test\"].str.replace(\",\",\"\").astype(\"float\")\n",
    "        data2 = data2.drop(columns=[\"test\"])\n",
    "        return data2\n",
    "    except Exception as a:\n",
    "        print(a)\n",
    "        print(data)\n",
    "        return None"
   ]
  },
  {
   "cell_type": "code",
   "execution_count": 17,
   "id": "cf64aaac",
   "metadata": {},
   "outputs": [],
   "source": [
    "for y in range(1965,1986):\n",
    "    test[y]=get_year(y)"
   ]
  },
  {
   "cell_type": "code",
   "execution_count": 19,
   "id": "c100d12a",
   "metadata": {},
   "outputs": [],
   "source": [
    "for y in range(1986,2004):\n",
    "    test[y]=get_year(y)"
   ]
  },
  {
   "cell_type": "code",
   "execution_count": 26,
   "id": "54c79d24",
   "metadata": {},
   "outputs": [],
   "source": [
    "for y in range(2004,2010):\n",
    "    test[y]=get_year(y)"
   ]
  },
  {
   "cell_type": "code",
   "execution_count": 27,
   "id": "2dd74fdc",
   "metadata": {},
   "outputs": [],
   "source": [
    "data = pandas.concat([test[t] for t in test])\n",
    "data[\"Distributor\"] = data[\"Distributor\"].fillna(data[\"Distributor(s)\"])\n",
    "data = data.drop(columns=[\"Distributor(s)\"])"
   ]
  },
  {
   "cell_type": "code",
   "execution_count": 28,
   "id": "f59a92d5",
   "metadata": {},
   "outputs": [],
   "source": [
    "pandas.set_option('display.float_format', lambda x: '%.3f' % x)\n",
    "df = data[[\"Year\",\"Taking\"]].groupby([\"Year\"]).agg([\"mean\",\"median\",\"max\"])\n",
    "df = df.reset_index()\n",
    "df.columns = [\"year\",\"mean\",\"median\",\"max\"]"
   ]
  },
  {
   "cell_type": "code",
   "execution_count": 29,
   "id": "b9a7e489",
   "metadata": {},
   "outputs": [
    {
     "data": {
      "text/plain": [
       "['The Sound of Music',\n",
       " 'Hawaii',\n",
       " 'The Graduate',\n",
       " 'Funny Girl',\n",
       " 'Butch Cassidy and the Sundance Kid',\n",
       " 'Love Story',\n",
       " 'Fiddler on the Roof',\n",
       " 'The Godfather',\n",
       " 'The Exorcist',\n",
       " 'The Towering Inferno',\n",
       " 'Jaws',\n",
       " 'Rocky',\n",
       " 'Star Wars',\n",
       " 'Superman',\n",
       " 'Kramer vs. Kramer',\n",
       " 'The Empire Strikes Back',\n",
       " 'Raiders of the Lost Ark',\n",
       " 'E.T. the Extra-Terrestrial',\n",
       " 'Return of the Jedi',\n",
       " 'Beverly Hills Cop',\n",
       " 'Back to the Future',\n",
       " 'Top Gun',\n",
       " 'Three Men and a Baby',\n",
       " 'Rain Man',\n",
       " 'Indiana Jones and the Last Crusade',\n",
       " 'Ghost',\n",
       " 'Terminator 2: Judgment Day',\n",
       " 'Aladdin',\n",
       " 'Jurassic Park',\n",
       " 'The Lion King',\n",
       " 'Die Hard with a Vengeance',\n",
       " 'Independence Day',\n",
       " 'Titanic',\n",
       " 'Armageddon',\n",
       " 'Star Wars: Episode I – The Phantom Menace',\n",
       " 'Mission: Impossible 2',\n",
       " 'Harry Potter and the Sorcerer’s Stone',\n",
       " 'The Lord of the Rings: The Two Towers',\n",
       " 'The Lord of the Rings: The Return of the King',\n",
       " 'Shrek 2',\n",
       " 'Harry Potter and the Goblet of Fire',\n",
       " \"Pirates of the Caribbean: Dead Man's Chest\",\n",
       " \"Pirates of the Caribbean: At World's End\",\n",
       " 'The Dark Knight',\n",
       " 'Avatar']"
      ]
     },
     "execution_count": 29,
     "metadata": {},
     "output_type": "execute_result"
    }
   ],
   "source": [
    "top = data[data.Rank==1].sort_values(\"Year\")[[\"Title\"]]\n",
    "top = list(top.Title)\n",
    "top"
   ]
  },
  {
   "cell_type": "code",
   "execution_count": 30,
   "id": "50f7cecf",
   "metadata": {},
   "outputs": [
    {
     "data": {
      "application/vnd.plotly.v1+json": {
       "config": {
        "plotlyServerURL": "https://plot.ly"
       },
       "data": [
        {
         "hovertemplate": "variable=mean<br>year=%{x}<br>value=%{y}<extra></extra>",
         "legendgroup": "mean",
         "line": {
          "color": "#636efa",
          "dash": "solid"
         },
         "marker": {
          "symbol": "circle"
         },
         "mode": "lines",
         "name": "mean",
         "orientation": "v",
         "showlegend": true,
         "type": "scatter",
         "x": [
          1965,
          1966,
          1967,
          1968,
          1969,
          1970,
          1971,
          1972,
          1973,
          1974,
          1975,
          1976,
          1977,
          1978,
          1979,
          1980,
          1981,
          1982,
          1983,
          1984,
          1985,
          1986,
          1987,
          1988,
          1989,
          1990,
          1991,
          1992,
          1993,
          1994,
          1995,
          1996,
          1997,
          1998,
          1999,
          2000,
          2001,
          2002,
          2003,
          2004,
          2005,
          2006,
          2007,
          2008,
          2009
         ],
         "xaxis": "x",
         "y": [
          21014000,
          11540000,
          20780000,
          16290600,
          16840000,
          23380000,
          21101200,
          27744400,
          35265200,
          32191900,
          38449100,
          31262843.5,
          86720077.2,
          88391433.3,
          80860148.3,
          88737516.5,
          89921035.7,
          125698036.2,
          100937792.2,
          131953478.4,
          101241794.6,
          111393014.3,
          102056691.1,
          227188845.8,
          281564873.4,
          324110576.8,
          278381648.2,
          308933825.7,
          346776839.7,
          379647466.2,
          326140521.2,
          385784621.6,
          513743434.3,
          367085212.7,
          483016027.1,
          375260243.9,
          529074439.7,
          568353180.2,
          588635869.1,
          606597750.2,
          592329149.7,
          576408058.8,
          698159470.5,
          637893807.8,
          909440364.2
         ],
         "yaxis": "y"
        },
        {
         "hovertemplate": "variable=median<br>year=%{x}<br>value=%{y}<extra></extra>",
         "legendgroup": "median",
         "line": {
          "color": "#EF553B",
          "dash": "solid"
         },
         "marker": {
          "symbol": "circle"
         },
         "mode": "lines",
         "name": "median",
         "orientation": "v",
         "showlegend": true,
         "type": "scatter",
         "x": [
          1965,
          1966,
          1967,
          1968,
          1969,
          1970,
          1971,
          1972,
          1973,
          1974,
          1975,
          1976,
          1977,
          1978,
          1979,
          1980,
          1981,
          1982,
          1983,
          1984,
          1985,
          1986,
          1987,
          1988,
          1989,
          1990,
          1991,
          1992,
          1993,
          1994,
          1995,
          1996,
          1997,
          1998,
          1999,
          2000,
          2001,
          2002,
          2003,
          2004,
          2005,
          2006,
          2007,
          2008,
          2009
         ],
         "xaxis": "x",
         "y": [
          10450000,
          11300000,
          19550000,
          15900000,
          14800000,
          15700000,
          18863500,
          21075000,
          21278500,
          30900000,
          21258500,
          29250000,
          67225000,
          79820139,
          81595128.5,
          70267346,
          78738289.5,
          92202723,
          73730643,
          105599447,
          81592164.5,
          100485566,
          78455491,
          202814999.5,
          235601797.5,
          252922752,
          239074210,
          294276940.5,
          268431213,
          346039676.5,
          341304458.5,
          323014072.5,
          314667210,
          356431614.5,
          432062612.5,
          347482084,
          449969047.5,
          436894959.5,
          469610068.5,
          582063153.5,
          552213647.5,
          518231995,
          666717932.5,
          606870995.5,
          752389277.5
         ],
         "yaxis": "y"
        },
        {
         "hovertemplate": "variable=max<br>year=%{x}<br>value=%{y}<extra></extra>",
         "legendgroup": "max",
         "line": {
          "color": "#00cc96",
          "dash": "solid"
         },
         "marker": {
          "symbol": "circle"
         },
         "mode": "lines",
         "name": "max",
         "orientation": "v",
         "showlegend": true,
         "type": "scatter",
         "x": [
          1965,
          1966,
          1967,
          1968,
          1969,
          1970,
          1971,
          1972,
          1973,
          1974,
          1975,
          1976,
          1977,
          1978,
          1979,
          1980,
          1981,
          1982,
          1983,
          1984,
          1985,
          1986,
          1987,
          1988,
          1989,
          1990,
          1991,
          1992,
          1993,
          1994,
          1995,
          1996,
          1997,
          1998,
          1999,
          2000,
          2001,
          2002,
          2003,
          2004,
          2005,
          2006,
          2007,
          2008,
          2009
         ],
         "xaxis": "x",
         "y": [
          72000000,
          15600000,
          43100000,
          24900000,
          29200000,
          50000000,
          40500000,
          86300000,
          88500000,
          50000000,
          133400000,
          55900000,
          221280994,
          134218018,
          106260000,
          209398025,
          212222025,
          359197037,
          309306177,
          234760478,
          210609762,
          176781728,
          167780960,
          354825435,
          474171806,
          505702588,
          520881154,
          504050219,
          914691120,
          763455561,
          366101666,
          817400891,
          1843201268,
          553709788,
          924317558,
          546388105,
          974755371,
          936689735,
          1140682011,
          928760770,
          895921036,
          1066179725,
          960996492,
          997000000,
          2743577587
         ],
         "yaxis": "y"
        }
       ],
       "layout": {
        "annotations": [
         {
          "text": "The Sound of Music",
          "textangle": 90,
          "x": 1965,
          "y": 72000000
         },
         {
          "text": "Hawaii",
          "textangle": 90,
          "x": 1966,
          "y": 15600000
         },
         {
          "text": "The Graduate",
          "textangle": 90,
          "x": 1967,
          "y": 43100000
         },
         {
          "text": "Funny Girl",
          "textangle": 90,
          "x": 1968,
          "y": 24900000
         },
         {
          "text": "Butch Cassidy and the Sundance Kid",
          "textangle": 90,
          "x": 1969,
          "y": 29200000
         },
         {
          "text": "Love Story",
          "textangle": 90,
          "x": 1970,
          "y": 50000000
         },
         {
          "text": "Fiddler on the Roof",
          "textangle": 90,
          "x": 1971,
          "y": 40500000
         },
         {
          "text": "The Godfather",
          "textangle": 90,
          "x": 1972,
          "y": 86300000
         },
         {
          "text": "The Exorcist",
          "textangle": 90,
          "x": 1973,
          "y": 88500000
         },
         {
          "text": "The Towering Inferno",
          "textangle": 90,
          "x": 1974,
          "y": 50000000
         },
         {
          "text": "Jaws",
          "textangle": 90,
          "x": 1975,
          "y": 133400000
         },
         {
          "text": "Rocky",
          "textangle": 90,
          "x": 1976,
          "y": 55900000
         },
         {
          "text": "Star Wars",
          "textangle": 90,
          "x": 1977,
          "y": 221280994
         },
         {
          "text": "Superman",
          "textangle": 90,
          "x": 1978,
          "y": 134218018
         },
         {
          "text": "Kramer vs. Kramer",
          "textangle": 90,
          "x": 1979,
          "y": 106260000
         },
         {
          "text": "The Empire Strikes Back",
          "textangle": 90,
          "x": 1980,
          "y": 209398025
         },
         {
          "text": "Raiders of the Lost Ark",
          "textangle": 90,
          "x": 1981,
          "y": 212222025
         },
         {
          "text": "E.T. the Extra-Terrestrial",
          "textangle": 90,
          "x": 1982,
          "y": 359197037
         },
         {
          "text": "Return of the Jedi",
          "textangle": 90,
          "x": 1983,
          "y": 309306177
         },
         {
          "text": "Beverly Hills Cop",
          "textangle": 90,
          "x": 1984,
          "y": 234760478
         },
         {
          "text": "Back to the Future",
          "textangle": 90,
          "x": 1985,
          "y": 210609762
         },
         {
          "text": "Top Gun",
          "textangle": 90,
          "x": 1986,
          "y": 176781728
         },
         {
          "text": "Three Men and a Baby",
          "textangle": 90,
          "x": 1987,
          "y": 167780960
         },
         {
          "text": "Rain Man",
          "textangle": 90,
          "x": 1988,
          "y": 354825435
         },
         {
          "text": "Indiana Jones and the Last Crusade",
          "textangle": 90,
          "x": 1989,
          "y": 474171806
         },
         {
          "text": "Ghost",
          "textangle": 90,
          "x": 1990,
          "y": 505702588
         },
         {
          "text": "Terminator 2: Judgment Day",
          "textangle": 90,
          "x": 1991,
          "y": 520881154
         },
         {
          "text": "Aladdin",
          "textangle": 90,
          "x": 1992,
          "y": 504050219
         },
         {
          "text": "Jurassic Park",
          "textangle": 90,
          "x": 1993,
          "y": 914691120
         },
         {
          "text": "The Lion King",
          "textangle": 90,
          "x": 1994,
          "y": 763455561
         },
         {
          "text": "Die Hard with a Vengeance",
          "textangle": 90,
          "x": 1995,
          "y": 366101666
         },
         {
          "text": "Independence Day",
          "textangle": 90,
          "x": 1996,
          "y": 817400891
         },
         {
          "text": "Titanic",
          "textangle": 90,
          "x": 1997,
          "y": 1843201268
         },
         {
          "text": "Armageddon",
          "textangle": 90,
          "x": 1998,
          "y": 553709788
         },
         {
          "text": "Star Wars: Episode I – The Phantom Menace",
          "textangle": 90,
          "x": 1999,
          "y": 924317558
         },
         {
          "text": "Mission: Impossible 2",
          "textangle": 90,
          "x": 2000,
          "y": 546388105
         },
         {
          "text": "Harry Potter and the Sorcerer’s Stone",
          "textangle": 90,
          "x": 2001,
          "y": 974755371
         },
         {
          "text": "The Lord of the Rings: The Two Towers",
          "textangle": 90,
          "x": 2002,
          "y": 936689735
         },
         {
          "text": "The Lord of the Rings: The Return of the King",
          "textangle": 90,
          "x": 2003,
          "y": 1140682011
         },
         {
          "text": "Shrek 2",
          "textangle": 90,
          "x": 2004,
          "y": 928760770
         },
         {
          "text": "Harry Potter and the Goblet of Fire",
          "textangle": 90,
          "x": 2005,
          "y": 895921036
         },
         {
          "text": "Pirates of the Caribbean: Dead Man's Chest",
          "textangle": 90,
          "x": 2006,
          "y": 1066179725
         },
         {
          "text": "Pirates of the Caribbean: At World's End",
          "textangle": 90,
          "x": 2007,
          "y": 960996492
         },
         {
          "text": "The Dark Knight",
          "textangle": 90,
          "x": 2008,
          "y": 997000000
         },
         {
          "text": "Avatar",
          "textangle": 90,
          "x": 2009,
          "y": 2743577587
         }
        ],
        "legend": {
         "title": {
          "text": "variable"
         },
         "tracegroupgap": 0
        },
        "margin": {
         "t": 60
        },
        "template": {
         "data": {
          "bar": [
           {
            "error_x": {
             "color": "#2a3f5f"
            },
            "error_y": {
             "color": "#2a3f5f"
            },
            "marker": {
             "line": {
              "color": "#E5ECF6",
              "width": 0.5
             },
             "pattern": {
              "fillmode": "overlay",
              "size": 10,
              "solidity": 0.2
             }
            },
            "type": "bar"
           }
          ],
          "barpolar": [
           {
            "marker": {
             "line": {
              "color": "#E5ECF6",
              "width": 0.5
             },
             "pattern": {
              "fillmode": "overlay",
              "size": 10,
              "solidity": 0.2
             }
            },
            "type": "barpolar"
           }
          ],
          "carpet": [
           {
            "aaxis": {
             "endlinecolor": "#2a3f5f",
             "gridcolor": "white",
             "linecolor": "white",
             "minorgridcolor": "white",
             "startlinecolor": "#2a3f5f"
            },
            "baxis": {
             "endlinecolor": "#2a3f5f",
             "gridcolor": "white",
             "linecolor": "white",
             "minorgridcolor": "white",
             "startlinecolor": "#2a3f5f"
            },
            "type": "carpet"
           }
          ],
          "choropleth": [
           {
            "colorbar": {
             "outlinewidth": 0,
             "ticks": ""
            },
            "type": "choropleth"
           }
          ],
          "contour": [
           {
            "colorbar": {
             "outlinewidth": 0,
             "ticks": ""
            },
            "colorscale": [
             [
              0,
              "#0d0887"
             ],
             [
              0.1111111111111111,
              "#46039f"
             ],
             [
              0.2222222222222222,
              "#7201a8"
             ],
             [
              0.3333333333333333,
              "#9c179e"
             ],
             [
              0.4444444444444444,
              "#bd3786"
             ],
             [
              0.5555555555555556,
              "#d8576b"
             ],
             [
              0.6666666666666666,
              "#ed7953"
             ],
             [
              0.7777777777777778,
              "#fb9f3a"
             ],
             [
              0.8888888888888888,
              "#fdca26"
             ],
             [
              1,
              "#f0f921"
             ]
            ],
            "type": "contour"
           }
          ],
          "contourcarpet": [
           {
            "colorbar": {
             "outlinewidth": 0,
             "ticks": ""
            },
            "type": "contourcarpet"
           }
          ],
          "heatmap": [
           {
            "colorbar": {
             "outlinewidth": 0,
             "ticks": ""
            },
            "colorscale": [
             [
              0,
              "#0d0887"
             ],
             [
              0.1111111111111111,
              "#46039f"
             ],
             [
              0.2222222222222222,
              "#7201a8"
             ],
             [
              0.3333333333333333,
              "#9c179e"
             ],
             [
              0.4444444444444444,
              "#bd3786"
             ],
             [
              0.5555555555555556,
              "#d8576b"
             ],
             [
              0.6666666666666666,
              "#ed7953"
             ],
             [
              0.7777777777777778,
              "#fb9f3a"
             ],
             [
              0.8888888888888888,
              "#fdca26"
             ],
             [
              1,
              "#f0f921"
             ]
            ],
            "type": "heatmap"
           }
          ],
          "heatmapgl": [
           {
            "colorbar": {
             "outlinewidth": 0,
             "ticks": ""
            },
            "colorscale": [
             [
              0,
              "#0d0887"
             ],
             [
              0.1111111111111111,
              "#46039f"
             ],
             [
              0.2222222222222222,
              "#7201a8"
             ],
             [
              0.3333333333333333,
              "#9c179e"
             ],
             [
              0.4444444444444444,
              "#bd3786"
             ],
             [
              0.5555555555555556,
              "#d8576b"
             ],
             [
              0.6666666666666666,
              "#ed7953"
             ],
             [
              0.7777777777777778,
              "#fb9f3a"
             ],
             [
              0.8888888888888888,
              "#fdca26"
             ],
             [
              1,
              "#f0f921"
             ]
            ],
            "type": "heatmapgl"
           }
          ],
          "histogram": [
           {
            "marker": {
             "pattern": {
              "fillmode": "overlay",
              "size": 10,
              "solidity": 0.2
             }
            },
            "type": "histogram"
           }
          ],
          "histogram2d": [
           {
            "colorbar": {
             "outlinewidth": 0,
             "ticks": ""
            },
            "colorscale": [
             [
              0,
              "#0d0887"
             ],
             [
              0.1111111111111111,
              "#46039f"
             ],
             [
              0.2222222222222222,
              "#7201a8"
             ],
             [
              0.3333333333333333,
              "#9c179e"
             ],
             [
              0.4444444444444444,
              "#bd3786"
             ],
             [
              0.5555555555555556,
              "#d8576b"
             ],
             [
              0.6666666666666666,
              "#ed7953"
             ],
             [
              0.7777777777777778,
              "#fb9f3a"
             ],
             [
              0.8888888888888888,
              "#fdca26"
             ],
             [
              1,
              "#f0f921"
             ]
            ],
            "type": "histogram2d"
           }
          ],
          "histogram2dcontour": [
           {
            "colorbar": {
             "outlinewidth": 0,
             "ticks": ""
            },
            "colorscale": [
             [
              0,
              "#0d0887"
             ],
             [
              0.1111111111111111,
              "#46039f"
             ],
             [
              0.2222222222222222,
              "#7201a8"
             ],
             [
              0.3333333333333333,
              "#9c179e"
             ],
             [
              0.4444444444444444,
              "#bd3786"
             ],
             [
              0.5555555555555556,
              "#d8576b"
             ],
             [
              0.6666666666666666,
              "#ed7953"
             ],
             [
              0.7777777777777778,
              "#fb9f3a"
             ],
             [
              0.8888888888888888,
              "#fdca26"
             ],
             [
              1,
              "#f0f921"
             ]
            ],
            "type": "histogram2dcontour"
           }
          ],
          "mesh3d": [
           {
            "colorbar": {
             "outlinewidth": 0,
             "ticks": ""
            },
            "type": "mesh3d"
           }
          ],
          "parcoords": [
           {
            "line": {
             "colorbar": {
              "outlinewidth": 0,
              "ticks": ""
             }
            },
            "type": "parcoords"
           }
          ],
          "pie": [
           {
            "automargin": true,
            "type": "pie"
           }
          ],
          "scatter": [
           {
            "fillpattern": {
             "fillmode": "overlay",
             "size": 10,
             "solidity": 0.2
            },
            "type": "scatter"
           }
          ],
          "scatter3d": [
           {
            "line": {
             "colorbar": {
              "outlinewidth": 0,
              "ticks": ""
             }
            },
            "marker": {
             "colorbar": {
              "outlinewidth": 0,
              "ticks": ""
             }
            },
            "type": "scatter3d"
           }
          ],
          "scattercarpet": [
           {
            "marker": {
             "colorbar": {
              "outlinewidth": 0,
              "ticks": ""
             }
            },
            "type": "scattercarpet"
           }
          ],
          "scattergeo": [
           {
            "marker": {
             "colorbar": {
              "outlinewidth": 0,
              "ticks": ""
             }
            },
            "type": "scattergeo"
           }
          ],
          "scattergl": [
           {
            "marker": {
             "colorbar": {
              "outlinewidth": 0,
              "ticks": ""
             }
            },
            "type": "scattergl"
           }
          ],
          "scattermapbox": [
           {
            "marker": {
             "colorbar": {
              "outlinewidth": 0,
              "ticks": ""
             }
            },
            "type": "scattermapbox"
           }
          ],
          "scatterpolar": [
           {
            "marker": {
             "colorbar": {
              "outlinewidth": 0,
              "ticks": ""
             }
            },
            "type": "scatterpolar"
           }
          ],
          "scatterpolargl": [
           {
            "marker": {
             "colorbar": {
              "outlinewidth": 0,
              "ticks": ""
             }
            },
            "type": "scatterpolargl"
           }
          ],
          "scatterternary": [
           {
            "marker": {
             "colorbar": {
              "outlinewidth": 0,
              "ticks": ""
             }
            },
            "type": "scatterternary"
           }
          ],
          "surface": [
           {
            "colorbar": {
             "outlinewidth": 0,
             "ticks": ""
            },
            "colorscale": [
             [
              0,
              "#0d0887"
             ],
             [
              0.1111111111111111,
              "#46039f"
             ],
             [
              0.2222222222222222,
              "#7201a8"
             ],
             [
              0.3333333333333333,
              "#9c179e"
             ],
             [
              0.4444444444444444,
              "#bd3786"
             ],
             [
              0.5555555555555556,
              "#d8576b"
             ],
             [
              0.6666666666666666,
              "#ed7953"
             ],
             [
              0.7777777777777778,
              "#fb9f3a"
             ],
             [
              0.8888888888888888,
              "#fdca26"
             ],
             [
              1,
              "#f0f921"
             ]
            ],
            "type": "surface"
           }
          ],
          "table": [
           {
            "cells": {
             "fill": {
              "color": "#EBF0F8"
             },
             "line": {
              "color": "white"
             }
            },
            "header": {
             "fill": {
              "color": "#C8D4E3"
             },
             "line": {
              "color": "white"
             }
            },
            "type": "table"
           }
          ]
         },
         "layout": {
          "annotationdefaults": {
           "arrowcolor": "#2a3f5f",
           "arrowhead": 0,
           "arrowwidth": 1
          },
          "autotypenumbers": "strict",
          "coloraxis": {
           "colorbar": {
            "outlinewidth": 0,
            "ticks": ""
           }
          },
          "colorscale": {
           "diverging": [
            [
             0,
             "#8e0152"
            ],
            [
             0.1,
             "#c51b7d"
            ],
            [
             0.2,
             "#de77ae"
            ],
            [
             0.3,
             "#f1b6da"
            ],
            [
             0.4,
             "#fde0ef"
            ],
            [
             0.5,
             "#f7f7f7"
            ],
            [
             0.6,
             "#e6f5d0"
            ],
            [
             0.7,
             "#b8e186"
            ],
            [
             0.8,
             "#7fbc41"
            ],
            [
             0.9,
             "#4d9221"
            ],
            [
             1,
             "#276419"
            ]
           ],
           "sequential": [
            [
             0,
             "#0d0887"
            ],
            [
             0.1111111111111111,
             "#46039f"
            ],
            [
             0.2222222222222222,
             "#7201a8"
            ],
            [
             0.3333333333333333,
             "#9c179e"
            ],
            [
             0.4444444444444444,
             "#bd3786"
            ],
            [
             0.5555555555555556,
             "#d8576b"
            ],
            [
             0.6666666666666666,
             "#ed7953"
            ],
            [
             0.7777777777777778,
             "#fb9f3a"
            ],
            [
             0.8888888888888888,
             "#fdca26"
            ],
            [
             1,
             "#f0f921"
            ]
           ],
           "sequentialminus": [
            [
             0,
             "#0d0887"
            ],
            [
             0.1111111111111111,
             "#46039f"
            ],
            [
             0.2222222222222222,
             "#7201a8"
            ],
            [
             0.3333333333333333,
             "#9c179e"
            ],
            [
             0.4444444444444444,
             "#bd3786"
            ],
            [
             0.5555555555555556,
             "#d8576b"
            ],
            [
             0.6666666666666666,
             "#ed7953"
            ],
            [
             0.7777777777777778,
             "#fb9f3a"
            ],
            [
             0.8888888888888888,
             "#fdca26"
            ],
            [
             1,
             "#f0f921"
            ]
           ]
          },
          "colorway": [
           "#636efa",
           "#EF553B",
           "#00cc96",
           "#ab63fa",
           "#FFA15A",
           "#19d3f3",
           "#FF6692",
           "#B6E880",
           "#FF97FF",
           "#FECB52"
          ],
          "font": {
           "color": "#2a3f5f"
          },
          "geo": {
           "bgcolor": "white",
           "lakecolor": "white",
           "landcolor": "#E5ECF6",
           "showlakes": true,
           "showland": true,
           "subunitcolor": "white"
          },
          "hoverlabel": {
           "align": "left"
          },
          "hovermode": "closest",
          "mapbox": {
           "style": "light"
          },
          "paper_bgcolor": "white",
          "plot_bgcolor": "#E5ECF6",
          "polar": {
           "angularaxis": {
            "gridcolor": "white",
            "linecolor": "white",
            "ticks": ""
           },
           "bgcolor": "#E5ECF6",
           "radialaxis": {
            "gridcolor": "white",
            "linecolor": "white",
            "ticks": ""
           }
          },
          "scene": {
           "xaxis": {
            "backgroundcolor": "#E5ECF6",
            "gridcolor": "white",
            "gridwidth": 2,
            "linecolor": "white",
            "showbackground": true,
            "ticks": "",
            "zerolinecolor": "white"
           },
           "yaxis": {
            "backgroundcolor": "#E5ECF6",
            "gridcolor": "white",
            "gridwidth": 2,
            "linecolor": "white",
            "showbackground": true,
            "ticks": "",
            "zerolinecolor": "white"
           },
           "zaxis": {
            "backgroundcolor": "#E5ECF6",
            "gridcolor": "white",
            "gridwidth": 2,
            "linecolor": "white",
            "showbackground": true,
            "ticks": "",
            "zerolinecolor": "white"
           }
          },
          "shapedefaults": {
           "line": {
            "color": "#2a3f5f"
           }
          },
          "ternary": {
           "aaxis": {
            "gridcolor": "white",
            "linecolor": "white",
            "ticks": ""
           },
           "baxis": {
            "gridcolor": "white",
            "linecolor": "white",
            "ticks": ""
           },
           "bgcolor": "#E5ECF6",
           "caxis": {
            "gridcolor": "white",
            "linecolor": "white",
            "ticks": ""
           }
          },
          "title": {
           "x": 0.05
          },
          "xaxis": {
           "automargin": true,
           "gridcolor": "white",
           "linecolor": "white",
           "ticks": "",
           "title": {
            "standoff": 15
           },
           "zerolinecolor": "white",
           "zerolinewidth": 2
          },
          "yaxis": {
           "automargin": true,
           "gridcolor": "white",
           "linecolor": "white",
           "ticks": "",
           "title": {
            "standoff": 15
           },
           "zerolinecolor": "white",
           "zerolinewidth": 2
          }
         }
        },
        "xaxis": {
         "anchor": "y",
         "domain": [
          0,
          1
         ],
         "title": {
          "text": "year"
         }
        },
        "yaxis": {
         "anchor": "x",
         "domain": [
          0,
          1
         ],
         "title": {
          "text": "value"
         }
        }
       }
      },
      "text/html": [
       "<div>                            <div id=\"8eb4c59e-be11-4d6e-8d04-575895731844\" class=\"plotly-graph-div\" style=\"height:525px; width:100%;\"></div>            <script type=\"text/javascript\">                require([\"plotly\"], function(Plotly) {                    window.PLOTLYENV=window.PLOTLYENV || {};                                    if (document.getElementById(\"8eb4c59e-be11-4d6e-8d04-575895731844\")) {                    Plotly.newPlot(                        \"8eb4c59e-be11-4d6e-8d04-575895731844\",                        [{\"hovertemplate\":\"variable=mean<br>year=%{x}<br>value=%{y}<extra></extra>\",\"legendgroup\":\"mean\",\"line\":{\"color\":\"#636efa\",\"dash\":\"solid\"},\"marker\":{\"symbol\":\"circle\"},\"mode\":\"lines\",\"name\":\"mean\",\"orientation\":\"v\",\"showlegend\":true,\"x\":[1965,1966,1967,1968,1969,1970,1971,1972,1973,1974,1975,1976,1977,1978,1979,1980,1981,1982,1983,1984,1985,1986,1987,1988,1989,1990,1991,1992,1993,1994,1995,1996,1997,1998,1999,2000,2001,2002,2003,2004,2005,2006,2007,2008,2009],\"xaxis\":\"x\",\"y\":[21014000.0,11540000.0,20780000.0,16290600.0,16840000.0,23380000.0,21101200.0,27744400.0,35265200.0,32191900.0,38449100.0,31262843.5,86720077.2,88391433.3,80860148.3,88737516.5,89921035.7,125698036.2,100937792.2,131953478.4,101241794.6,111393014.3,102056691.1,227188845.8,281564873.4,324110576.8,278381648.2,308933825.7,346776839.7,379647466.2,326140521.2,385784621.6,513743434.3,367085212.7,483016027.1,375260243.9,529074439.7,568353180.2,588635869.1,606597750.2,592329149.7,576408058.8,698159470.5,637893807.8,909440364.2],\"yaxis\":\"y\",\"type\":\"scatter\"},{\"hovertemplate\":\"variable=median<br>year=%{x}<br>value=%{y}<extra></extra>\",\"legendgroup\":\"median\",\"line\":{\"color\":\"#EF553B\",\"dash\":\"solid\"},\"marker\":{\"symbol\":\"circle\"},\"mode\":\"lines\",\"name\":\"median\",\"orientation\":\"v\",\"showlegend\":true,\"x\":[1965,1966,1967,1968,1969,1970,1971,1972,1973,1974,1975,1976,1977,1978,1979,1980,1981,1982,1983,1984,1985,1986,1987,1988,1989,1990,1991,1992,1993,1994,1995,1996,1997,1998,1999,2000,2001,2002,2003,2004,2005,2006,2007,2008,2009],\"xaxis\":\"x\",\"y\":[10450000.0,11300000.0,19550000.0,15900000.0,14800000.0,15700000.0,18863500.0,21075000.0,21278500.0,30900000.0,21258500.0,29250000.0,67225000.0,79820139.0,81595128.5,70267346.0,78738289.5,92202723.0,73730643.0,105599447.0,81592164.5,100485566.0,78455491.0,202814999.5,235601797.5,252922752.0,239074210.0,294276940.5,268431213.0,346039676.5,341304458.5,323014072.5,314667210.0,356431614.5,432062612.5,347482084.0,449969047.5,436894959.5,469610068.5,582063153.5,552213647.5,518231995.0,666717932.5,606870995.5,752389277.5],\"yaxis\":\"y\",\"type\":\"scatter\"},{\"hovertemplate\":\"variable=max<br>year=%{x}<br>value=%{y}<extra></extra>\",\"legendgroup\":\"max\",\"line\":{\"color\":\"#00cc96\",\"dash\":\"solid\"},\"marker\":{\"symbol\":\"circle\"},\"mode\":\"lines\",\"name\":\"max\",\"orientation\":\"v\",\"showlegend\":true,\"x\":[1965,1966,1967,1968,1969,1970,1971,1972,1973,1974,1975,1976,1977,1978,1979,1980,1981,1982,1983,1984,1985,1986,1987,1988,1989,1990,1991,1992,1993,1994,1995,1996,1997,1998,1999,2000,2001,2002,2003,2004,2005,2006,2007,2008,2009],\"xaxis\":\"x\",\"y\":[72000000.0,15600000.0,43100000.0,24900000.0,29200000.0,50000000.0,40500000.0,86300000.0,88500000.0,50000000.0,133400000.0,55900000.0,221280994.0,134218018.0,106260000.0,209398025.0,212222025.0,359197037.0,309306177.0,234760478.0,210609762.0,176781728.0,167780960.0,354825435.0,474171806.0,505702588.0,520881154.0,504050219.0,914691120.0,763455561.0,366101666.0,817400891.0,1843201268.0,553709788.0,924317558.0,546388105.0,974755371.0,936689735.0,1140682011.0,928760770.0,895921036.0,1066179725.0,960996492.0,997000000.0,2743577587.0],\"yaxis\":\"y\",\"type\":\"scatter\"}],                        {\"template\":{\"data\":{\"histogram2dcontour\":[{\"type\":\"histogram2dcontour\",\"colorbar\":{\"outlinewidth\":0,\"ticks\":\"\"},\"colorscale\":[[0.0,\"#0d0887\"],[0.1111111111111111,\"#46039f\"],[0.2222222222222222,\"#7201a8\"],[0.3333333333333333,\"#9c179e\"],[0.4444444444444444,\"#bd3786\"],[0.5555555555555556,\"#d8576b\"],[0.6666666666666666,\"#ed7953\"],[0.7777777777777778,\"#fb9f3a\"],[0.8888888888888888,\"#fdca26\"],[1.0,\"#f0f921\"]]}],\"choropleth\":[{\"type\":\"choropleth\",\"colorbar\":{\"outlinewidth\":0,\"ticks\":\"\"}}],\"histogram2d\":[{\"type\":\"histogram2d\",\"colorbar\":{\"outlinewidth\":0,\"ticks\":\"\"},\"colorscale\":[[0.0,\"#0d0887\"],[0.1111111111111111,\"#46039f\"],[0.2222222222222222,\"#7201a8\"],[0.3333333333333333,\"#9c179e\"],[0.4444444444444444,\"#bd3786\"],[0.5555555555555556,\"#d8576b\"],[0.6666666666666666,\"#ed7953\"],[0.7777777777777778,\"#fb9f3a\"],[0.8888888888888888,\"#fdca26\"],[1.0,\"#f0f921\"]]}],\"heatmap\":[{\"type\":\"heatmap\",\"colorbar\":{\"outlinewidth\":0,\"ticks\":\"\"},\"colorscale\":[[0.0,\"#0d0887\"],[0.1111111111111111,\"#46039f\"],[0.2222222222222222,\"#7201a8\"],[0.3333333333333333,\"#9c179e\"],[0.4444444444444444,\"#bd3786\"],[0.5555555555555556,\"#d8576b\"],[0.6666666666666666,\"#ed7953\"],[0.7777777777777778,\"#fb9f3a\"],[0.8888888888888888,\"#fdca26\"],[1.0,\"#f0f921\"]]}],\"heatmapgl\":[{\"type\":\"heatmapgl\",\"colorbar\":{\"outlinewidth\":0,\"ticks\":\"\"},\"colorscale\":[[0.0,\"#0d0887\"],[0.1111111111111111,\"#46039f\"],[0.2222222222222222,\"#7201a8\"],[0.3333333333333333,\"#9c179e\"],[0.4444444444444444,\"#bd3786\"],[0.5555555555555556,\"#d8576b\"],[0.6666666666666666,\"#ed7953\"],[0.7777777777777778,\"#fb9f3a\"],[0.8888888888888888,\"#fdca26\"],[1.0,\"#f0f921\"]]}],\"contourcarpet\":[{\"type\":\"contourcarpet\",\"colorbar\":{\"outlinewidth\":0,\"ticks\":\"\"}}],\"contour\":[{\"type\":\"contour\",\"colorbar\":{\"outlinewidth\":0,\"ticks\":\"\"},\"colorscale\":[[0.0,\"#0d0887\"],[0.1111111111111111,\"#46039f\"],[0.2222222222222222,\"#7201a8\"],[0.3333333333333333,\"#9c179e\"],[0.4444444444444444,\"#bd3786\"],[0.5555555555555556,\"#d8576b\"],[0.6666666666666666,\"#ed7953\"],[0.7777777777777778,\"#fb9f3a\"],[0.8888888888888888,\"#fdca26\"],[1.0,\"#f0f921\"]]}],\"surface\":[{\"type\":\"surface\",\"colorbar\":{\"outlinewidth\":0,\"ticks\":\"\"},\"colorscale\":[[0.0,\"#0d0887\"],[0.1111111111111111,\"#46039f\"],[0.2222222222222222,\"#7201a8\"],[0.3333333333333333,\"#9c179e\"],[0.4444444444444444,\"#bd3786\"],[0.5555555555555556,\"#d8576b\"],[0.6666666666666666,\"#ed7953\"],[0.7777777777777778,\"#fb9f3a\"],[0.8888888888888888,\"#fdca26\"],[1.0,\"#f0f921\"]]}],\"mesh3d\":[{\"type\":\"mesh3d\",\"colorbar\":{\"outlinewidth\":0,\"ticks\":\"\"}}],\"scatter\":[{\"fillpattern\":{\"fillmode\":\"overlay\",\"size\":10,\"solidity\":0.2},\"type\":\"scatter\"}],\"parcoords\":[{\"type\":\"parcoords\",\"line\":{\"colorbar\":{\"outlinewidth\":0,\"ticks\":\"\"}}}],\"scatterpolargl\":[{\"type\":\"scatterpolargl\",\"marker\":{\"colorbar\":{\"outlinewidth\":0,\"ticks\":\"\"}}}],\"bar\":[{\"error_x\":{\"color\":\"#2a3f5f\"},\"error_y\":{\"color\":\"#2a3f5f\"},\"marker\":{\"line\":{\"color\":\"#E5ECF6\",\"width\":0.5},\"pattern\":{\"fillmode\":\"overlay\",\"size\":10,\"solidity\":0.2}},\"type\":\"bar\"}],\"scattergeo\":[{\"type\":\"scattergeo\",\"marker\":{\"colorbar\":{\"outlinewidth\":0,\"ticks\":\"\"}}}],\"scatterpolar\":[{\"type\":\"scatterpolar\",\"marker\":{\"colorbar\":{\"outlinewidth\":0,\"ticks\":\"\"}}}],\"histogram\":[{\"marker\":{\"pattern\":{\"fillmode\":\"overlay\",\"size\":10,\"solidity\":0.2}},\"type\":\"histogram\"}],\"scattergl\":[{\"type\":\"scattergl\",\"marker\":{\"colorbar\":{\"outlinewidth\":0,\"ticks\":\"\"}}}],\"scatter3d\":[{\"type\":\"scatter3d\",\"line\":{\"colorbar\":{\"outlinewidth\":0,\"ticks\":\"\"}},\"marker\":{\"colorbar\":{\"outlinewidth\":0,\"ticks\":\"\"}}}],\"scattermapbox\":[{\"type\":\"scattermapbox\",\"marker\":{\"colorbar\":{\"outlinewidth\":0,\"ticks\":\"\"}}}],\"scatterternary\":[{\"type\":\"scatterternary\",\"marker\":{\"colorbar\":{\"outlinewidth\":0,\"ticks\":\"\"}}}],\"scattercarpet\":[{\"type\":\"scattercarpet\",\"marker\":{\"colorbar\":{\"outlinewidth\":0,\"ticks\":\"\"}}}],\"carpet\":[{\"aaxis\":{\"endlinecolor\":\"#2a3f5f\",\"gridcolor\":\"white\",\"linecolor\":\"white\",\"minorgridcolor\":\"white\",\"startlinecolor\":\"#2a3f5f\"},\"baxis\":{\"endlinecolor\":\"#2a3f5f\",\"gridcolor\":\"white\",\"linecolor\":\"white\",\"minorgridcolor\":\"white\",\"startlinecolor\":\"#2a3f5f\"},\"type\":\"carpet\"}],\"table\":[{\"cells\":{\"fill\":{\"color\":\"#EBF0F8\"},\"line\":{\"color\":\"white\"}},\"header\":{\"fill\":{\"color\":\"#C8D4E3\"},\"line\":{\"color\":\"white\"}},\"type\":\"table\"}],\"barpolar\":[{\"marker\":{\"line\":{\"color\":\"#E5ECF6\",\"width\":0.5},\"pattern\":{\"fillmode\":\"overlay\",\"size\":10,\"solidity\":0.2}},\"type\":\"barpolar\"}],\"pie\":[{\"automargin\":true,\"type\":\"pie\"}]},\"layout\":{\"autotypenumbers\":\"strict\",\"colorway\":[\"#636efa\",\"#EF553B\",\"#00cc96\",\"#ab63fa\",\"#FFA15A\",\"#19d3f3\",\"#FF6692\",\"#B6E880\",\"#FF97FF\",\"#FECB52\"],\"font\":{\"color\":\"#2a3f5f\"},\"hovermode\":\"closest\",\"hoverlabel\":{\"align\":\"left\"},\"paper_bgcolor\":\"white\",\"plot_bgcolor\":\"#E5ECF6\",\"polar\":{\"bgcolor\":\"#E5ECF6\",\"angularaxis\":{\"gridcolor\":\"white\",\"linecolor\":\"white\",\"ticks\":\"\"},\"radialaxis\":{\"gridcolor\":\"white\",\"linecolor\":\"white\",\"ticks\":\"\"}},\"ternary\":{\"bgcolor\":\"#E5ECF6\",\"aaxis\":{\"gridcolor\":\"white\",\"linecolor\":\"white\",\"ticks\":\"\"},\"baxis\":{\"gridcolor\":\"white\",\"linecolor\":\"white\",\"ticks\":\"\"},\"caxis\":{\"gridcolor\":\"white\",\"linecolor\":\"white\",\"ticks\":\"\"}},\"coloraxis\":{\"colorbar\":{\"outlinewidth\":0,\"ticks\":\"\"}},\"colorscale\":{\"sequential\":[[0.0,\"#0d0887\"],[0.1111111111111111,\"#46039f\"],[0.2222222222222222,\"#7201a8\"],[0.3333333333333333,\"#9c179e\"],[0.4444444444444444,\"#bd3786\"],[0.5555555555555556,\"#d8576b\"],[0.6666666666666666,\"#ed7953\"],[0.7777777777777778,\"#fb9f3a\"],[0.8888888888888888,\"#fdca26\"],[1.0,\"#f0f921\"]],\"sequentialminus\":[[0.0,\"#0d0887\"],[0.1111111111111111,\"#46039f\"],[0.2222222222222222,\"#7201a8\"],[0.3333333333333333,\"#9c179e\"],[0.4444444444444444,\"#bd3786\"],[0.5555555555555556,\"#d8576b\"],[0.6666666666666666,\"#ed7953\"],[0.7777777777777778,\"#fb9f3a\"],[0.8888888888888888,\"#fdca26\"],[1.0,\"#f0f921\"]],\"diverging\":[[0,\"#8e0152\"],[0.1,\"#c51b7d\"],[0.2,\"#de77ae\"],[0.3,\"#f1b6da\"],[0.4,\"#fde0ef\"],[0.5,\"#f7f7f7\"],[0.6,\"#e6f5d0\"],[0.7,\"#b8e186\"],[0.8,\"#7fbc41\"],[0.9,\"#4d9221\"],[1,\"#276419\"]]},\"xaxis\":{\"gridcolor\":\"white\",\"linecolor\":\"white\",\"ticks\":\"\",\"title\":{\"standoff\":15},\"zerolinecolor\":\"white\",\"automargin\":true,\"zerolinewidth\":2},\"yaxis\":{\"gridcolor\":\"white\",\"linecolor\":\"white\",\"ticks\":\"\",\"title\":{\"standoff\":15},\"zerolinecolor\":\"white\",\"automargin\":true,\"zerolinewidth\":2},\"scene\":{\"xaxis\":{\"backgroundcolor\":\"#E5ECF6\",\"gridcolor\":\"white\",\"linecolor\":\"white\",\"showbackground\":true,\"ticks\":\"\",\"zerolinecolor\":\"white\",\"gridwidth\":2},\"yaxis\":{\"backgroundcolor\":\"#E5ECF6\",\"gridcolor\":\"white\",\"linecolor\":\"white\",\"showbackground\":true,\"ticks\":\"\",\"zerolinecolor\":\"white\",\"gridwidth\":2},\"zaxis\":{\"backgroundcolor\":\"#E5ECF6\",\"gridcolor\":\"white\",\"linecolor\":\"white\",\"showbackground\":true,\"ticks\":\"\",\"zerolinecolor\":\"white\",\"gridwidth\":2}},\"shapedefaults\":{\"line\":{\"color\":\"#2a3f5f\"}},\"annotationdefaults\":{\"arrowcolor\":\"#2a3f5f\",\"arrowhead\":0,\"arrowwidth\":1},\"geo\":{\"bgcolor\":\"white\",\"landcolor\":\"#E5ECF6\",\"subunitcolor\":\"white\",\"showland\":true,\"showlakes\":true,\"lakecolor\":\"white\"},\"title\":{\"x\":0.05},\"mapbox\":{\"style\":\"light\"}}},\"xaxis\":{\"anchor\":\"y\",\"domain\":[0.0,1.0],\"title\":{\"text\":\"year\"}},\"yaxis\":{\"anchor\":\"x\",\"domain\":[0.0,1.0],\"title\":{\"text\":\"value\"}},\"legend\":{\"title\":{\"text\":\"variable\"},\"tracegroupgap\":0},\"margin\":{\"t\":60},\"annotations\":[{\"text\":\"The Sound of Music\",\"textangle\":90,\"x\":1965,\"y\":72000000.0},{\"text\":\"Hawaii\",\"textangle\":90,\"x\":1966,\"y\":15600000.0},{\"text\":\"The Graduate\",\"textangle\":90,\"x\":1967,\"y\":43100000.0},{\"text\":\"Funny Girl\",\"textangle\":90,\"x\":1968,\"y\":24900000.0},{\"text\":\"Butch Cassidy and the Sundance Kid\",\"textangle\":90,\"x\":1969,\"y\":29200000.0},{\"text\":\"Love Story\",\"textangle\":90,\"x\":1970,\"y\":50000000.0},{\"text\":\"Fiddler on the Roof\",\"textangle\":90,\"x\":1971,\"y\":40500000.0},{\"text\":\"The Godfather\",\"textangle\":90,\"x\":1972,\"y\":86300000.0},{\"text\":\"The Exorcist\",\"textangle\":90,\"x\":1973,\"y\":88500000.0},{\"text\":\"The Towering Inferno\",\"textangle\":90,\"x\":1974,\"y\":50000000.0},{\"text\":\"Jaws\",\"textangle\":90,\"x\":1975,\"y\":133400000.0},{\"text\":\"Rocky\",\"textangle\":90,\"x\":1976,\"y\":55900000.0},{\"text\":\"Star Wars\",\"textangle\":90,\"x\":1977,\"y\":221280994.0},{\"text\":\"Superman\",\"textangle\":90,\"x\":1978,\"y\":134218018.0},{\"text\":\"Kramer vs. Kramer\",\"textangle\":90,\"x\":1979,\"y\":106260000.0},{\"text\":\"The Empire Strikes Back\",\"textangle\":90,\"x\":1980,\"y\":209398025.0},{\"text\":\"Raiders of the Lost Ark\",\"textangle\":90,\"x\":1981,\"y\":212222025.0},{\"text\":\"E.T. the Extra-Terrestrial\",\"textangle\":90,\"x\":1982,\"y\":359197037.0},{\"text\":\"Return of the Jedi\",\"textangle\":90,\"x\":1983,\"y\":309306177.0},{\"text\":\"Beverly Hills Cop\",\"textangle\":90,\"x\":1984,\"y\":234760478.0},{\"text\":\"Back to the Future\",\"textangle\":90,\"x\":1985,\"y\":210609762.0},{\"text\":\"Top Gun\",\"textangle\":90,\"x\":1986,\"y\":176781728.0},{\"text\":\"Three Men and a Baby\",\"textangle\":90,\"x\":1987,\"y\":167780960.0},{\"text\":\"Rain Man\",\"textangle\":90,\"x\":1988,\"y\":354825435.0},{\"text\":\"Indiana Jones and the Last Crusade\",\"textangle\":90,\"x\":1989,\"y\":474171806.0},{\"text\":\"Ghost\",\"textangle\":90,\"x\":1990,\"y\":505702588.0},{\"text\":\"Terminator 2: Judgment Day\",\"textangle\":90,\"x\":1991,\"y\":520881154.0},{\"text\":\"Aladdin\",\"textangle\":90,\"x\":1992,\"y\":504050219.0},{\"text\":\"Jurassic Park\",\"textangle\":90,\"x\":1993,\"y\":914691120.0},{\"text\":\"The Lion King\",\"textangle\":90,\"x\":1994,\"y\":763455561.0},{\"text\":\"Die Hard with a Vengeance\",\"textangle\":90,\"x\":1995,\"y\":366101666.0},{\"text\":\"Independence Day\",\"textangle\":90,\"x\":1996,\"y\":817400891.0},{\"text\":\"Titanic\",\"textangle\":90,\"x\":1997,\"y\":1843201268.0},{\"text\":\"Armageddon\",\"textangle\":90,\"x\":1998,\"y\":553709788.0},{\"text\":\"Star Wars: Episode I \\u2013 The Phantom Menace\",\"textangle\":90,\"x\":1999,\"y\":924317558.0},{\"text\":\"Mission: Impossible 2\",\"textangle\":90,\"x\":2000,\"y\":546388105.0},{\"text\":\"Harry Potter and the Sorcerer\\u2019s Stone\",\"textangle\":90,\"x\":2001,\"y\":974755371.0},{\"text\":\"The Lord of the Rings: The Two Towers\",\"textangle\":90,\"x\":2002,\"y\":936689735.0},{\"text\":\"The Lord of the Rings: The Return of the King\",\"textangle\":90,\"x\":2003,\"y\":1140682011.0},{\"text\":\"Shrek 2\",\"textangle\":90,\"x\":2004,\"y\":928760770.0},{\"text\":\"Harry Potter and the Goblet of Fire\",\"textangle\":90,\"x\":2005,\"y\":895921036.0},{\"text\":\"Pirates of the Caribbean: Dead Man's Chest\",\"textangle\":90,\"x\":2006,\"y\":1066179725.0},{\"text\":\"Pirates of the Caribbean: At World's End\",\"textangle\":90,\"x\":2007,\"y\":960996492.0},{\"text\":\"The Dark Knight\",\"textangle\":90,\"x\":2008,\"y\":997000000.0},{\"text\":\"Avatar\",\"textangle\":90,\"x\":2009,\"y\":2743577587.0}]},                        {\"responsive\": true}                    ).then(function(){\n",
       "                            \n",
       "var gd = document.getElementById('8eb4c59e-be11-4d6e-8d04-575895731844');\n",
       "var x = new MutationObserver(function (mutations, observer) {{\n",
       "        var display = window.getComputedStyle(gd).display;\n",
       "        if (!display || display === 'none') {{\n",
       "            console.log([gd, 'removed!']);\n",
       "            Plotly.purge(gd);\n",
       "            observer.disconnect();\n",
       "        }}\n",
       "}});\n",
       "\n",
       "// Listen for the removal of the full notebook cells\n",
       "var notebookContainer = gd.closest('#notebook-container');\n",
       "if (notebookContainer) {{\n",
       "    x.observe(notebookContainer, {childList: true});\n",
       "}}\n",
       "\n",
       "// Listen for the clearing of the current output cell\n",
       "var outputEl = gd.closest('.output');\n",
       "if (outputEl) {{\n",
       "    x.observe(outputEl, {childList: true});\n",
       "}}\n",
       "\n",
       "                        })                };                });            </script>        </div>"
      ]
     },
     "metadata": {},
     "output_type": "display_data"
    }
   ],
   "source": [
    "fig = px.line(df,x=\"year\", y=[\"mean\",\"median\",\"max\"])\n",
    "for t in range(len(top)):\n",
    "    xx=list(df.year)[t]\n",
    "    yy=list(df[\"max\"])[t]\n",
    "    tt=top[t]\n",
    "    fig.add_annotation(x=xx, y=yy, text=tt, textangle=90)\n",
    "\n",
    "fig.show()"
   ]
  },
  {
   "cell_type": "raw",
   "id": "913498ac",
   "metadata": {},
   "source": []
  },
  {
   "cell_type": "code",
   "execution_count": 14,
   "id": "47ba387b",
   "metadata": {},
   "outputs": [],
   "source": []
  },
  {
   "cell_type": "code",
   "execution_count": 18,
   "id": "fec3c2db",
   "metadata": {},
   "outputs": [
    {
     "data": {
      "text/plain": [
       "{1965:    Rank                                           Title  \\\n",
       " 0     1                              The Sound of Music   \n",
       " 1     2                                  Doctor Zhivago   \n",
       " 2     3                                     Thunderball   \n",
       " 3     4  Those Magnificent Men in their Flying Machines   \n",
       " 4     5                                  The Great Race   \n",
       " 5     6                                  That Darn Cat!   \n",
       " 6     7                                      Cat Ballou   \n",
       " 7     8                            What's New Pussycat?   \n",
       " 8     9                                      Shenandoah   \n",
       " 9    10                              Von Ryan's Express   \n",
       " \n",
       "                                  Studio  Year    Taking  \n",
       " 0                      20th Century Fox  1965  72000000  \n",
       " 1                   Metro-Goldwyn-Mayer  1965  43000000  \n",
       " 2        United Artists/Eon Productions  1965  27000000  \n",
       " 3                      20th Century Fox  1965  14000000  \n",
       " 4                 Warner Bros. Pictures  1965  11400000  \n",
       " 5  Walt Disney/Buena Vista Distribution  1965   9500000  \n",
       " 6                     Columbia Pictures  1965   9300000  \n",
       " 7                        United Artists  1965   8469000  \n",
       " 8                    Universal Pictures  1965   7771000  \n",
       " 9                      20th Century Fox  1965   7700000  ,\n",
       " 1966:    Rank                                             Title  \\\n",
       " 0     1                                            Hawaii   \n",
       " 1     2                    The Bible: In the Beginning...   \n",
       " 2     3                   Who's Afraid of Virginia Woolf?   \n",
       " 3     4                                  The Sand Pebbles   \n",
       " 4     5                             A Man for All Seasons   \n",
       " 5     6  The Russians Are Coming, the Russians Are Coming   \n",
       " 6     7                                        Grand Prix   \n",
       " 7     8                                 The Professionals   \n",
       " 8     9                                             Alfie   \n",
       " 9    10                                       Georgy Girl   \n",
       " \n",
       "                                    Studio  Year    Taking  \n",
       " 0  United Artists/The Mirisch Corporation  1966  15600000  \n",
       " 1                        20th Century Fox  1966  15000000  \n",
       " 2                   Warner Bros. Pictures  1966  14500000  \n",
       " 3                        20th Century Fox  1966  13500000  \n",
       " 4                       Columbia Pictures  1966  12800000  \n",
       " 5  United Artists/The Mirisch Corporation  1966   9800000  \n",
       " 6                     Metro-Goldwyn-Mayer  1966   9300000  \n",
       " 7                       Columbia Pictures  1966   8800000  \n",
       " 8                      Paramount Pictures  1966   8500000  \n",
       " 9                       Columbia Pictures  1966   7600000  ,\n",
       " 1967:    Rank                         Title                                Studio  \\\n",
       " 0     1                  The Graduate       United Artists/Embassy Pictures   \n",
       " 1     2  Guess Who's Coming to Dinner                     Columbia Pictures   \n",
       " 2     3              Bonnie and Clyde                 Warner Bros. Pictures   \n",
       " 3     4               The Dirty Dozen                   Metro-Goldwyn-Mayer   \n",
       " 4     5           Valley of the Dolls                      20th Century Fox   \n",
       " 5     6             To Sir, with Love                     Columbia Pictures   \n",
       " 6     7           You Only Live Twice        United Artists/Eon Productions   \n",
       " 7     8      Thoroughly Modern Millie                    Universal Pictures   \n",
       " 8     9               The Jungle Book  Walt Disney/Buena Vista Distribution   \n",
       " 9    10                       Camelot                 Warner Bros. Pictures   \n",
       " \n",
       "    Year    Taking  \n",
       " 0  1967  43100000  \n",
       " 1  1967  25500000  \n",
       " 2  1967  22000000  \n",
       " 3  1967  20100000  \n",
       " 4  1967  20000000  \n",
       " 5  1967  19100000  \n",
       " 6  1967  18000000  \n",
       " 7  1967  14700000  \n",
       " 8  1967  13000000  \n",
       " 9  1967  12300000  ,\n",
       " 1968:    Rank                               Title  \\\n",
       " 0     1                          Funny Girl   \n",
       " 1     2               2001: A Space Odyssey   \n",
       " 2     3                      The Odd Couple   \n",
       " 3     4                             Bullitt   \n",
       " 4     5                             Oliver!   \n",
       " 5     6  Planet of the Apes Rosemary's Baby   \n",
       " 6     7                    Romeo and Juliet   \n",
       " 7     8                Yours, Mine and Ours   \n",
       " 8     9                  The Lion in Winter   \n",
       " 9    10                    The Green Berets   \n",
       " \n",
       "                                 Studio  Year    Taking  \n",
       " 0                    Columbia Pictures  1968  24900000  \n",
       " 1                  Metro-Goldwyn-Mayer  1968  21500000  \n",
       " 2                   Paramount Pictures  1968  20000000  \n",
       " 3                Warner Bros. Pictures  1968  19000000  \n",
       " 4                    Columbia Pictures  1968  16800000  \n",
       " 5  20th Century Fox Paramount Pictures  1968  15000000  \n",
       " 6                   Paramount Pictures  1968  14500000  \n",
       " 7                       United Artists  1968  11500000  \n",
       " 8                AVCO Embassy Pictures  1968  10006000  \n",
       " 9                Warner Bros. Pictures  1968   9700000  ,\n",
       " 1969:    Rank                               Title  \\\n",
       " 0     1  Butch Cassidy and the Sundance Kid   \n",
       " 1     2                        The Love Bug   \n",
       " 2     3                     Midnight Cowboy   \n",
       " 3     4                          Easy Rider   \n",
       " 4     5                       Hello, Dolly!   \n",
       " 5     6           Bob & Carol & Ted & Alice   \n",
       " 6     7                    Paint Your Wagon   \n",
       " 7     8                           True Grit   \n",
       " 8     9                       Cactus Flower   \n",
       " 9    10                   Goodbye, Columbus   \n",
       " \n",
       "                                  Studio  Year    Taking  \n",
       " 0                      20th Century Fox  1969  29200000  \n",
       " 1  Walt Disney/Buena Vista Distribution  1969  21000000  \n",
       " 2                        United Artists  1969  20500000  \n",
       " 3                     Columbia Pictures  1969  16900000  \n",
       " 4                      20th Century Fox  1969  15000000  \n",
       " 5                     Columbia Pictures  1969  14600000  \n",
       " 6                    Paramount Pictures  1969  14500000  \n",
       " 7                    Paramount Pictures  1969  14300000  \n",
       " 8                     Columbia Pictures  1969  11900000  \n",
       " 9                    Paramount Pictures  1969  10500000  ,\n",
       " 1970:    Rank                     Title            Distributor  Year    Taking\n",
       " 0     1                Love Story     Paramount Pictures  1970  50000000\n",
       " 1     2                   Airport     Universal Pictures  1970  44500000\n",
       " 2     3                   M*A*S*H       20th Century Fox  1970  30000000\n",
       " 3     4                    Patton       20th Century Fox  1970  27000000\n",
       " 4     5                 Woodstock  Warner Bros. Pictures  1970  16400000\n",
       " 5     6            Little Big Man  Warner Bros. Pictures  1970  15000000\n",
       " 6     7         Tora! Tora! Tora!       20th Century Fox  1970  13700000\n",
       " 7     8           Ryan's Daughter    Metro-Goldwyn-Mayer  1970  13400000\n",
       " 8     9                  Catch-22     Paramount Pictures  1970  12300000\n",
       " 9    10  The Owl and the Pussycat      Columbia Pictures  1970  11500000,\n",
       " 1971:    Rank                  Title                     Distributor  Year    Taking\n",
       " 0     1    Fiddler on the Roof                  United Artists  1971  40500000\n",
       " 1     2             Billy Jack           Warner Bros. Pictures  1971  32500000\n",
       " 2     3  The French Connection                20th Century Fox  1971  26300000\n",
       " 3     4          Summer of '42           Warner Bros. Pictures  1971  20500000\n",
       " 4     5   Diamonds Are Forever                  United Artists  1971  19727000\n",
       " 5     6            Dirty Harry           Warner Bros. Pictures  1971  18000000\n",
       " 6     7     A Clockwork Orange           Warner Bros. Pictures  1971  17000000\n",
       " 7     8       Carnal Knowledge                Embassy Pictures  1971  14075000\n",
       " 8     9  The Last Picture Show               Columbia Pictures  1971  13110000\n",
       " 9    10                Willard  Cinerama Releasing Corporation  1971   9300000,\n",
       " 1972:    Rank                                           Title  \\\n",
       " 0     1                                   The Godfather   \n",
       " 1     2                          The Poseidon Adventure   \n",
       " 2     3                                 What's Up, Doc?   \n",
       " 3     4                                     Deliverance   \n",
       " 4     5                                Jeremiah Johnson   \n",
       " 5     6                                         Cabaret   \n",
       " 6     7                                     Deep Throat   \n",
       " 7     8                                     The Getaway   \n",
       " 8     9                            Lady Sings the Blues   \n",
       " 9    10  Everything You Always Wanted to Know About Sex   \n",
       " \n",
       "                       Distributor  Year    Taking  \n",
       " 0              Paramount Pictures  1972  86300000  \n",
       " 1                20th Century Fox  1972  42000000  \n",
       " 2           Warner Bros. Pictures  1972  28000000  \n",
       " 3           Warner Bros. Pictures  1972  22500000  \n",
       " 4           Warner Bros. Pictures  1972  21900000  \n",
       " 5                  Allied Artists  1972  20250000  \n",
       " 6  Bryanston Distributing Company  1972  20000000  \n",
       " 7       National General Pictures  1972  18000000  \n",
       " 8              Paramount Pictures  1972   9666000  \n",
       " 9                  United Artists  1972   8828000  ,\n",
       " 1973:    Rank                    Title              Distributor  Year    Taking\n",
       " 0     1             The Exorcist    Warner Bros. Pictures  1973  88500000\n",
       " 1     2                The Sting       Universal Pictures  1973  79000000\n",
       " 2     3        American Graffiti       Universal Pictures  1973  55900000\n",
       " 3     4                 Papillon           Allied Artists  1973  22500000\n",
       " 4     5          The Way We Were        Columbia Pictures  1973  22457000\n",
       " 5     6             Magnum Force    Warner Bros. Pictures  1973  20100000\n",
       " 6     7      Last Tango in Paris           United Artists  1973  16711000\n",
       " 7     8               Paper Moon       Paramount Pictures  1973  16559000\n",
       " 8     9         Live and Let Die           United Artists  1973  15925000\n",
       " 9    10  The Devil in Miss Jones  VCX Ltd./MB Productions  1973  15000000,\n",
       " 1974:    Rank                                Title  \\\n",
       " 0     1                 The Towering Inferno   \n",
       " 1     2                      Blazing Saddles   \n",
       " 2     3                   Young Frankenstein   \n",
       " 3     4                           Earthquake   \n",
       " 4     5              The Trial of Billy Jack   \n",
       " 5     6                The Godfather Part II   \n",
       " 6     7                         Airport 1975   \n",
       " 7     8                     The Longest Yard   \n",
       " 8     9  The Life and Times of Grizzly Adams   \n",
       " 9    10         Murder on the Orient Express   \n",
       " \n",
       "                            Distributor(s)  Year    Taking  \n",
       " 0  20th Century Fox/Warner Bros. Pictures  1974  50000000  \n",
       " 1                   Warner Bros. Pictures  1974  45200000  \n",
       " 2                        20th Century Fox  1974  38800000  \n",
       " 3                      Universal Pictures  1974  36300000  \n",
       " 4                   Warner Bros. Pictures  1974  31100000  \n",
       " 5                      Paramount Pictures  1974  30700000  \n",
       " 6                      Universal Pictures  1974  25800000  \n",
       " 7                      Paramount Pictures  1974  23000000  \n",
       " 8                   Sunn Classic Pictures  1974  21895000  \n",
       " 9                      Paramount Pictures  1974  19124000  ,\n",
       " 1975:    Rank                            Title            Distributor  Year  \\\n",
       " 0     1                             Jaws     Universal Pictures  1975   \n",
       " 1     2  One Flew Over the Cuckoo's Nest         United Artists  1975   \n",
       " 2     3    The Rocky Horror Picture Show       20th Century Fox  1975   \n",
       " 3     4                          Shampoo      Columbia Pictures  1975   \n",
       " 4     5                Dog Day Afternoon  Warner Bros. Pictures  1975   \n",
       " 5     6   The Return of the Pink Panther         United Artists  1975   \n",
       " 6     7         Three Days of the Condor     Paramount Pictures  1975   \n",
       " 7     8                       Funny Lady      Columbia Pictures  1975   \n",
       " 8     9   The Other Side of the Mountain     Universal Pictures  1975   \n",
       " 9    10                            Tommy      Columbia Pictures  1975   \n",
       " \n",
       "       Taking  \n",
       " 0  133400000  \n",
       " 1   59200000  \n",
       " 2   50420000  \n",
       " 3   23822000  \n",
       " 4   22500000  \n",
       " 5   20017000  \n",
       " 6   20014000  \n",
       " 7   19313000  \n",
       " 8   18012000  \n",
       " 9   17793000  ,\n",
       " 1976:    Rank                    Title            Distributor  Year    Taking\n",
       " 0     1                    Rocky         United Artists  1976  55900000\n",
       " 1     2           A Star Is Born           Warner Bros.  1976  37100000\n",
       " 2     3                King Kong     Paramount Pictures  1976  36900000\n",
       " 3     4            Silver Streak       20th Century Fox  1976  30018000\n",
       " 4     5  All the President's Men           Warner Bros.  1976  30000000\n",
       " 5     6                 The Omen       20th Century Fox  1976  28500000\n",
       " 6     7       The Bad News Bears     Paramount Pictures  1976  24800000\n",
       " 7     8             The Enforcer           Warner Bros.  1976  24000000\n",
       " 8     9  In Search of Noah's Ark  Sunn Classic Pictures  1976  23800000\n",
       " 9    10                   Midway     Universal Pictures  1976  21610435,\n",
       " 1977:    Rank                               Title       Distributor  Year     Taking\n",
       " 0     1                           Star Wars  20th Century Fox  1977  221280994\n",
       " 1     2               Smokey and the Bandit         Universal  1977  126737428\n",
       " 2     3  Close Encounters of the Third Kind          Columbia  1977  116395460\n",
       " 3     4                Saturday Night Fever         Paramount  1977   94213184\n",
       " 4     5                    The Goodbye Girl  MGM/Warner Bros.  1977   83700000\n",
       " 5     6                    A Bridge Too Far    United Artists  1977   50750000\n",
       " 6     7                            The Deep          Columbia  1977   47346365\n",
       " 7     8                The Spy Who Loved Me    United Artists  1977   46838673\n",
       " 8     9                            Oh, God!      Warner Bros.  1977   41687243\n",
       " 9    10                          Annie Hall    United Artists  1977   38251425,\n",
       " 1978:    Rank                            Title     Distributor  Year     Taking\n",
       " 0     1                         Superman    Warner Bros.  1978  134218018\n",
       " 1     2                           Grease       Paramount  1978  132472560\n",
       " 2     3  National Lampoon’s Animal House       Universal  1978  120091123\n",
       " 3     4        Every Which Way but Loose    Warner Bros.  1978   85196485\n",
       " 4     5                  Heaven Can Wait       Paramount  1978   81640278\n",
       " 5     6                           Hooper    Warner Bros.  1978   78000000\n",
       " 6     7                           Jaws 2       Universal  1978   77737272\n",
       " 7     8                      Up In Smoke       Paramount  1978   76000000\n",
       " 8     9      Revenge of the Pink Panther  United Artists  1978   49579269\n",
       " 9    10                  The Deer Hunter       Universal  1978   48979328,\n",
       " 1979:    Rank                          Title                      Distributor  Year  \\\n",
       " 0     1              Kramer vs. Kramer                Columbia Pictures  1979   \n",
       " 1     2          The Amityville Horror  American International Pictures  1979   \n",
       " 2     3                       Rocky II                   United Artists  1979   \n",
       " 3     4                 Apocalypse Now                   United Artists  1979   \n",
       " 4     5  Star Trek: The Motion Picture               Paramount Pictures  1979   \n",
       " 5     6                          Alien                              Fox  1979   \n",
       " 6     7                             10                     Warner Bros.  1979   \n",
       " 7     8                       The Jerk               Universal Pictures  1979   \n",
       " 8     9                      Moonraker                   United Artists  1979   \n",
       " 9    10               The Muppet Movie     Associated Film Distribution  1979   \n",
       " \n",
       "       Taking  \n",
       " 0  106260000  \n",
       " 1   86432520  \n",
       " 2   85182160  \n",
       " 3   83471511  \n",
       " 4   82258456  \n",
       " 5   80931801  \n",
       " 6   74865517  \n",
       " 7   73691419  \n",
       " 8   70308099  \n",
       " 9   65200000  ,\n",
       " 1980:    Rank                     Title   Distributor  Year     Taking\n",
       " 0     1   The Empire Strikes Back           Fox  1980  209398025\n",
       " 1     2                    9 to 5           Fox  1980  103290500\n",
       " 2     3                Stir Crazy      Columbia  1980  101300000\n",
       " 3     4                 Airplane!     Paramount  1980   83453539\n",
       " 4     5     Any Which Way You Can  Warner Bros.  1980   70687344\n",
       " 5     6          Private Benjamin  Warner Bros.  1980   69847348\n",
       " 6     7     Coal Miner's Daughter     Universal  1980   67182787\n",
       " 7     8  Smokey and the Bandit II     Universal  1980   66132626\n",
       " 8     9           The Blue Lagoon      Columbia  1980   58853106\n",
       " 9    10        The Blues Brothers     Universal  1980   57229890,\n",
       " 1981:    Rank                    Title     Distributor  Year     Taking\n",
       " 0     1  Raiders of the Lost Ark       Paramount  1981  212222025\n",
       " 1     2           On Golden Pond       Universal  1981  119285432\n",
       " 2     3              Superman II    Warner Bros.  1981  108185706\n",
       " 3     4                   Arthur    Warner Bros.  1981   95461682\n",
       " 4     5                  Stripes        Columbia  1981   85297000\n",
       " 5     6       The Cannonball Run             Fox  1981   72179579\n",
       " 6     7         Chariots of Fire    Warner Bros.  1981   58972904\n",
       " 7     8       For Your Eyes Only  United Artists  1981   54812802\n",
       " 8     9         The Four Seasons       Universal  1981   50427646\n",
       " 9    10             Time Bandits         Embassy  1981   42365581,\n",
       " 1982:    Rank                                Title     Distributor  Year     Taking\n",
       " 0     1           E.T. the Extra-Terrestrial       Universal  1982  359197037\n",
       " 1     2                              Tootsie        Columbia  1982  177200000\n",
       " 2     3           An Officer and a Gentleman       Paramount  1982  129795554\n",
       " 3     4                            Rocky III  United Artists  1982  124146897\n",
       " 4     5                              Porky's             Fox  1982  105492483\n",
       " 5     6      Star Trek II: The Wrath of Khan       Paramount  1982   78912963\n",
       " 6     7                              48 Hrs.       Paramount  1982   78868508\n",
       " 7     8                          Poltergeist             MGM  1982   76606280\n",
       " 8     9  The Best Little Whorehouse in Texas       Universal  1982   69701637\n",
       " 9    10                                Annie        Columbia  1982   57059003,\n",
       " 1983:    Rank                Title     Distributor  Year     Taking\n",
       " 0     1   Return of the Jedi             Fox  1983  309306177\n",
       " 1     2  Terms of Endearment       Paramount  1983  108423489\n",
       " 2     3           Flashdance       Paramount  1983   92921203\n",
       " 3     4       Trading Places       Paramount  1983   90404800\n",
       " 4     5             WarGames  United Artists  1983   79567667\n",
       " 5     6            Octopussy  United Artists  1983   67893619\n",
       " 6     7        Sudden Impact    Warner Bros.  1983   67642693\n",
       " 7     8        Staying Alive       Paramount  1983   64892670\n",
       " 8     9              Mr. Mom             Fox  1983   64783827\n",
       " 9    10       Risky Business    Warner Bros.  1983   63541777,\n",
       " 1984:    Rank                                 Title   Distributor  Year     Taking\n",
       " 0     1                     Beverly Hills Cop     Paramount  1984  234760478\n",
       " 1     2                          Ghostbusters      Columbia  1984  229242989\n",
       " 2     3  Indiana Jones and the Temple of Doom     Paramount  1984  179870271\n",
       " 3     4                              Gremlins  Warner Bros.  1984  153083102\n",
       " 4     5                        The Karate Kid      Columbia  1984  130000000\n",
       " 5     6                        Police Academy  Warner Bros.  1984   81198894\n",
       " 6     7                             Footloose     Paramount  1984   80035402\n",
       " 7     8                   Romancing the Stone           Fox  1984   76572238\n",
       " 8     9   Star Trek III: The Search for Spock     Paramount  1984   76471076\n",
       " 9    10                        The Terminator         Orion  1984   78300334,\n",
       " 1985:    Rank                       Title        Distributor  Year     Taking\n",
       " 0     1          Back to the Future          Universal  1985  210609762\n",
       " 1     2  Rambo: First Blood Part II  TriStar / Carolco  1985  150415432\n",
       " 2     3                    Rocky IV                MGM  1985  127873716\n",
       " 3     4            The Color Purple       Warner Bros.  1985   94175854\n",
       " 4     5               Out of Africa          Universal  1985   87071205\n",
       " 5     6                      Cocoon                Fox  1985   76113124\n",
       " 6     7       The Jewel of the Nile                Fox  1985   75973200\n",
       " 7     8                     Witness          Paramount  1985   68706993\n",
       " 8     9                 The Goonies       Warner Bros.  1985   61389680\n",
       " 9    10               Spies Like Us       Warner Bros.  1985   60088980}"
      ]
     },
     "execution_count": 18,
     "metadata": {},
     "output_type": "execute_result"
    }
   ],
   "source": [
    "test"
   ]
  }
 ],
 "metadata": {
  "kernelspec": {
   "display_name": "Python 3 (ipykernel)",
   "language": "python",
   "name": "python3"
  },
  "language_info": {
   "codemirror_mode": {
    "name": "ipython",
    "version": 3
   },
   "file_extension": ".py",
   "mimetype": "text/x-python",
   "name": "python",
   "nbconvert_exporter": "python",
   "pygments_lexer": "ipython3",
   "version": "3.8.10"
  }
 },
 "nbformat": 4,
 "nbformat_minor": 5
}
